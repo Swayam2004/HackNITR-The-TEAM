{
 "cells": [
  {
   "cell_type": "code",
   "execution_count": null,
   "id": "fa597500",
   "metadata": {},
   "outputs": [],
   "source": [
    "import numpy as np\n",
    "from flask import Flask, request, render_template\n",
    "import pickle\n",
    "\n",
    "#Create an app object using the Flask class. \n",
    "app = Flask(__name__)\n",
    "\n",
    "#Load the trained model. (Pickle file)\n",
    "model = pickle.load(open('heart.pkl', 'rb'))\n",
    "\n",
    "#Define the route to be home. \n",
    "#The decorator below links the relative route of the URL to the function it is decorating.\n",
    "#Here, home function is with '/', our root directory. \n",
    "#Running the app sends us to index.html.\n",
    "#Note that render_template means it looks for the file in the templates folder. \n",
    "\n",
    "#use the route() decorator to tell Flask what URL should trigger our function.\n",
    "@app.route('/')\n",
    "def home():\n",
    "    return render_template('index.html')\n",
    "\n",
    "#You can use the methods argument of the route() decorator to handle different HTTP methods.\n",
    "#GET: A GET message is send, and the server returns data\n",
    "#POST: Used to send HTML form data to the server.\n",
    "#Add Post method to the decorator to allow for form submission. \n",
    "#Redirect to /predict page with the output\n",
    "@app.route('/predict',methods=['POST'])\n",
    "def predict():\n",
    "\n",
    "    int_features = [float(x) for x in request.form.values()] #Convert string inputs to float.\n",
    "    features = [np.array(int_features)]  #Convert to the form [[a, b]] for input to the model\n",
    "    prediction = model.predict(features)  # features Must be in the form [[a, b]]\n",
    "\n",
    "    output = round(prediction[0], 2)\n",
    "    \n",
    "    if output>str(0.5):\n",
    "        return render_template('forest_fire.html',pred='you have heart disease')\n",
    "    else:\n",
    "        return render_template('forest_fire.html',pred='you have no heart disease')\n",
    "\n",
    "    #return render_template('index.html', prediction_text='Percent with heart disease is {}'.format(output))\n",
    "\n",
    "\n",
    "#When the Python interpreter reads a source file, it first defines a few special variables. \n",
    "#For now, we care about the _name_ variable.\n",
    "#If we execute our code in the main program, like in our case here, it assigns\n",
    "# _main_ as the name (_name_). \n",
    "#So if we want to run our code right here, we can check if _name_ == _main_\n",
    "#if so, execute it here. \n",
    "#If we import this file (module) to another file then _name_ == app (which is the name of this python file).\n",
    "\n",
    "if __name__ == \"_main_\":\n",
    "    app.run()"
   ]
  },
  {
   "cell_type": "code",
   "execution_count": null,
   "id": "308d4f0f",
   "metadata": {},
   "outputs": [],
   "source": []
  },
  {
   "cell_type": "code",
   "execution_count": null,
   "id": "bd270bef",
   "metadata": {},
   "outputs": [],
   "source": []
  },
  {
   "cell_type": "code",
   "execution_count": null,
   "id": "2d29d0f8",
   "metadata": {},
   "outputs": [],
   "source": []
  }
 ],
 "metadata": {
  "kernelspec": {
   "display_name": "Python 3 (ipykernel)",
   "language": "python",
   "name": "python3"
  },
  "language_info": {
   "codemirror_mode": {
    "name": "ipython",
    "version": 3
   },
   "file_extension": ".py",
   "mimetype": "text/x-python",
   "name": "python",
   "nbconvert_exporter": "python",
   "pygments_lexer": "ipython3",
   "version": "3.11.5"
  }
 },
 "nbformat": 4,
 "nbformat_minor": 5
}
